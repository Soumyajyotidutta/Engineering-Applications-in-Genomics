{
  "nbformat": 4,
  "nbformat_minor": 0,
  "metadata": {
    "colab": {
      "provenance": [],
      "collapsed_sections": [],
      "authorship_tag": "ABX9TyNAuMjYkyEbDxOkodTKqOEL",
      "include_colab_link": true
    },
    "kernelspec": {
      "name": "python3",
      "display_name": "Python 3"
    },
    "language_info": {
      "name": "python"
    }
  },
  "cells": [
    {
      "cell_type": "markdown",
      "metadata": {
        "id": "view-in-github",
        "colab_type": "text"
      },
      "source": [
        "<a href=\"https://colab.research.google.com/github/Soumyajyotidutta/Fall22/blob/main/MaximumLikelihoodEstimation.ipynb\" target=\"_parent\"><img src=\"https://colab.research.google.com/assets/colab-badge.svg\" alt=\"Open In Colab\"/></a>"
      ]
    },
    {
      "cell_type": "code",
      "execution_count": 62,
      "metadata": {
        "id": "cWX-wqRp8WXR"
      },
      "outputs": [],
      "source": [
        "# Library import\n",
        "import numpy as np\n",
        "import matplotlib.pyplot as plt"
      ]
    },
    {
      "cell_type": "code",
      "source": [
        "# Generate random gaussian points\n",
        "mu, sigma = 1, 0.20\n",
        "R = np.random.normal(mu, sigma, 100) \n",
        "G = np.random.normal(mu, sigma, 100) \n",
        "print ('R')\n",
        "print (R)\n",
        "print('G')\n",
        "print (G)"
      ],
      "metadata": {
        "id": "rmtKT_9IgqxN"
      },
      "execution_count": null,
      "outputs": []
    },
    {
      "cell_type": "code",
      "source": [
        "# plot the sets (PDF of gaussian distribution)\n",
        "count, bins, ignored = plt.hist(R, 30, density=True)\n",
        "plt.plot(bins, 1/(sigma * np.sqrt(2 * np.pi)) * np.exp( - (bins - mu)**2 / (2 * sigma**2) ), linewidth=2, color='r')\n",
        "plt.title(\"Set: R\")\n",
        "plt.show()\n",
        "count, bins, ignored = plt.hist(G, 30, density=True)\n",
        "plt.plot(bins, 1/(sigma * np.sqrt(2 * np.pi)) * np.exp( - (bins - mu)**2 / (2 * sigma**2) ), linewidth=2, color='r')\n",
        "plt.title(\"Set: G\")\n",
        "plt.show('Figure 2')"
      ],
      "metadata": {
        "id": "GP8G-8nkjJkK"
      },
      "execution_count": null,
      "outputs": []
    },
    {
      "cell_type": "code",
      "source": [
        "# generate set T\n",
        "T = np.divide(R,G)\n",
        "print(T)"
      ],
      "metadata": {
        "id": "1LmUINqGhkQG"
      },
      "execution_count": null,
      "outputs": []
    },
    {
      "cell_type": "code",
      "source": [
        "# plot (PDF) of set T\n",
        "count, bins, ignored = plt.hist(G, 30, density=True)\n",
        "plt.plot(bins, 1/(sigma * np.sqrt(2 * np.pi)) * np.exp( - (bins - mu)**2 / (2 * sigma**2) ), linewidth=2, color='r')\n",
        "plt.title(\"Set: T\")\n",
        "plt.show('Figure 3')"
      ],
      "metadata": {
        "id": "sBa6D89vl0dp"
      },
      "execution_count": null,
      "outputs": []
    },
    {
      "cell_type": "code",
      "source": [
        "# Maximum likelihood estimation\n",
        "x = 0\n",
        "i = 0\n",
        "for i in range(len(T)):\n",
        "  x = x + (np.square(T[i]-1)/(1+np.square(T[i])))\n",
        "c = np.sqrt(x/len(T))\n",
        "print(c)"
      ],
      "metadata": {
        "colab": {
          "base_uri": "https://localhost:8080/"
        },
        "id": "PocwP9ebmFzf",
        "outputId": "644c7929-65bb-4fff-f933-acbb914e4495"
      },
      "execution_count": 67,
      "outputs": [
        {
          "output_type": "stream",
          "name": "stdout",
          "text": [
            "0.19059948388765163\n"
          ]
        }
      ]
    },
    {
      "cell_type": "code",
      "source": [
        "y = [0.105626, 0.145957, 0.1905995]\n",
        "x = [.10, 0.15, 0.20]\n",
        "plt.scatter(x, y)"
      ],
      "metadata": {
        "colab": {
          "base_uri": "https://localhost:8080/",
          "height": 282
        },
        "id": "INsnW33U7hVj",
        "outputId": "17c02b60-fda9-4883-fff2-adcb63717db8"
      },
      "execution_count": 68,
      "outputs": [
        {
          "output_type": "execute_result",
          "data": {
            "text/plain": [
              "<matplotlib.collections.PathCollection at 0x7fa4f56af2d0>"
            ]
          },
          "metadata": {},
          "execution_count": 68
        },
        {
          "output_type": "display_data",
          "data": {
            "text/plain": [
              "<Figure size 432x288 with 1 Axes>"
            ],
            "image/png": "[encoded data removed]"
          },
          "metadata": {
            "needs_background": "light"
          }
        }
      ]
    }
  ]
}